{
 "cells": [
  {
   "cell_type": "code",
   "execution_count": 22,
   "id": "abbaebd5",
   "metadata": {},
   "outputs": [],
   "source": [
    "import json\n",
    " \n"
   ]
  },
  {
   "cell_type": "code",
   "execution_count": 24,
   "id": "5f87c1f0",
   "metadata": {},
   "outputs": [],
   "source": [
    "# json path should be offered\n",
    "with open('./pmf_train_coco_format.json') as f:\n",
    "    Json = json.load(f)\n",
    "    annotations = Json['annotations']\n",
    "    images = Json['images']\n",
    "    image_id_name_dict = {}\n",
    "    image_id_width_dict = {}\n",
    "    image_id_height_dict = {}\n",
    "    for image in images:\n",
    "        image_id_name_dict[image['id']] = image['file_name']\n",
    "        image_id_height_dict[image['id']] = image['height']\n",
    "        image_id_width_dict[image['id']] = image['width']\n",
    "    for annotation in annotations:\n",
    "        id = annotation['id']\n",
    "        bbox = annotation['bbox']\n",
    "        cat = annotation['category_id']\n",
    "        x,y,w,h = bbox\n",
    "        # x1 = x - w / 2\n",
    "        # y1 = y - h / 2\n",
    "        # x2 = x1 + w\n",
    "        # y2 = y1 + h\n",
    "        width = image_id_width_dict[id]\n",
    "        height = image_id_height_dict[id]\n",
    "        \n",
    "        x = str(x / width)\n",
    "        y = str(y / height)\n",
    "        w = str(w / width)\n",
    "        h = str(h / height)\n",
    "        with open('./{}.txt'.format(image_id_name_dict[id].split('.')[0]),'w') as f:\n",
    "            f.write(str(cat)+' ' + str(x) + ' ' + str(y) + ' ' + str(w) + ' ' + str(h) + '\\n')\n",
    "  \n",
    "    "
   ]
  },
  {
   "cell_type": "code",
   "execution_count": null,
   "id": "10f835c8",
   "metadata": {},
   "outputs": [],
   "source": []
  },
  {
   "cell_type": "code",
   "execution_count": null,
   "id": "74c0a4de",
   "metadata": {},
   "outputs": [],
   "source": []
  }
 ],
 "metadata": {
  "kernelspec": {
   "display_name": "Python 3 (ipykernel)",
   "language": "python",
   "name": "python3"
  },
  "language_info": {
   "codemirror_mode": {
    "name": "ipython",
    "version": 3
   },
   "file_extension": ".py",
   "mimetype": "text/x-python",
   "name": "python",
   "nbconvert_exporter": "python",
   "pygments_lexer": "ipython3",
   "version": "3.8.10"
  }
 },
 "nbformat": 4,
 "nbformat_minor": 5
}
