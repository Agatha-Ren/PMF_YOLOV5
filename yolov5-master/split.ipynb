{
 "cells": [
  {
   "cell_type": "code",
   "execution_count": 2,
   "id": "cf92f63c",
   "metadata": {},
   "outputs": [],
   "source": [
    "import os\n",
    "import cv2\n",
    "import glob\n",
    "import random\n",
    "#random split train, val and tes dataset\n",
    "train_txt_path = './train.txt'\n",
    "val_txt_path = '/home/agatha/PMF_YOLOV5/yolov5-master/data/val.txt'\n",
    "test_txt_path = '/home/agatha/PMF_YOLOV5/yolov5-master/data/test.txt'\n",
    "# all txt\n",
    "path_imgs = '/home/agatha/PMF_YOLOV5/yolov5-master/data/dataset/*.txt'\n",
    "# glob.glob returns a list of all matching file paths\n",
    "image_list = glob.glob(path_imgs)\n",
    "\n",
    "# random \n",
    "random.shuffle(image_list)\n",
    "#6:2:2\n",
    "num = len(image_list)\n",
    "\n",
    "train_list = image_list[:int(0.6*num)]\n",
    "\n",
    "val_list = image_list[int(0.2*num):]\n",
    "test_list = image_list[int(0.2*num):]\n",
    "# Write in, CV2's judgment statement because some images CV2 cannot read and will return none, resulting in an error, so we just skip such images\n",
    "with open(train_txt_path,'w') as f:\n",
    "    for line in train_list:\n",
    "        png_name = line.replace('txt','png')\n",
    "        img = cv2.imread(png_name)\n",
    "        if img is not None:\n",
    "            f.write(png_name + '\\n')\n",
    "#write in val.txt and test.txt\n",
    "with open(val_txt_path,'w') as f:\n",
    "    for line in val_list:\n",
    "        png_name = line.replace('txt','png')\n",
    "        img = cv2.imread(png_name)\n",
    "        if img is not None:\n",
    "            f.write(png_name + '\\n')\n",
    "with open(test_txt_path,'w') as f:\n",
    "    for line in test_list:\n",
    "        png_name = line.replace('txt','png')\n",
    "        img = cv2.imread(png_name)\n",
    "        if img is not None:\n",
    "            f.write(png_name + '\\n')\n"
   ]
  },
  {
   "cell_type": "code",
   "execution_count": null,
   "id": "910057c0",
   "metadata": {},
   "outputs": [],
   "source": []
  }
 ],
 "metadata": {
  "kernelspec": {
   "display_name": "Python 3 (ipykernel)",
   "language": "python",
   "name": "python3"
  },
  "language_info": {
   "codemirror_mode": {
    "name": "ipython",
    "version": 3
   },
   "file_extension": ".py",
   "mimetype": "text/x-python",
   "name": "python",
   "nbconvert_exporter": "python",
   "pygments_lexer": "ipython3",
   "version": "3.8.10"
  }
 },
 "nbformat": 4,
 "nbformat_minor": 5
}
